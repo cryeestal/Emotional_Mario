{
 "cells": [
  {
   "cell_type": "code",
   "execution_count": 3,
   "id": "a0457ba9",
   "metadata": {},
   "outputs": [],
   "source": [
    "import sys\n",
    "import json\n",
    "import argparse\n",
    "import random\n",
    "import csv\n",
    "import numpy as np\n",
    "from scipy.signal import argrelextrema\n",
    "from pandas import read_csv\n",
    "import random\n",
    "import os \n",
    "os.environ\n",
    "\n",
    "\n",
    "import tensorflow as tf\n",
    "import keras\n",
    "import PIL\n",
    "import numpy as np\n",
    "import pandas as pd\n",
    "import os\n",
    "import math\n",
    "from sklearn.model_selection import train_test_split\n",
    "import cv2\n",
    "from keras.models import Sequential\n",
    "from keras.layers import Conv2D, MaxPooling2D, Activation, Dropout, Flatten, Dense, Dropout, BatchNormalization\n",
    "def read_file(file_path, type):\n",
    "    if type == \"csv\":\n",
    "        data = read_csv(file_path)\n",
    "        return data.values\n",
    "    elif type == \"json\":\n",
    "        f = open(file_path)\n",
    "        data = json.load(f)\n",
    "        return data"
   ]
  },
  {
   "cell_type": "code",
   "execution_count": 4,
   "id": "563f5ec8",
   "metadata": {},
   "outputs": [
    {
     "name": "stderr",
     "output_type": "stream",
     "text": [
      "usage: ipykernel_launcher.py [-h] [-p PARTICIPANTS_PATH] [-i PARTICIPANT_IDX]\n",
      "                             [-g GROUNDTRUTH_PATH] [-o OUTPUT_PATH]\n",
      "ipykernel_launcher.py: error: unrecognized arguments: -f /Users/huangyushu/Library/Jupyter/runtime/kernel-cb2a0a28-1fae-4fba-9bb3-74b71b1b39b6.json\n"
     ]
    },
    {
     "ename": "SystemExit",
     "evalue": "2",
     "output_type": "error",
     "traceback": [
      "An exception has occurred, use %tb to see the full traceback.\n",
      "\u001b[0;31mSystemExit\u001b[0m\u001b[0;31m:\u001b[0m 2\n"
     ]
    },
    {
     "name": "stderr",
     "output_type": "stream",
     "text": [
      "/Library/Frameworks/Python.framework/Versions/3.6/lib/python3.6/site-packages/IPython/core/interactiveshell.py:3351: UserWarning: To exit: use 'exit', 'quit', or Ctrl-D.\n",
      "  warn(\"To exit: use 'exit', 'quit', or Ctrl-D.\", stacklevel=1)\n"
     ]
    }
   ],
   "source": [
    "\n",
    "argument_parser = argparse.ArgumentParser(description=\"A script used to replay the game session.\")\n",
    "\n",
    "# participants-path = .../toadstool/participants\n",
    "# groundtruth-path = .../GroundTruth\n",
    "argument_parser.add_argument(\"-p\", \"--participants-path\", type=str, default=None)\n",
    "argument_parser.add_argument(\"-i\", \"--participant-idx\", type=str, default=None)\n",
    "argument_parser.add_argument(\"-g\", \"--groundtruth-path\", type=str, default=None)\n",
    "argument_parser.add_argument(\"-o\", \"--output-path\", type=str, default= None)\n",
    "\n",
    "\n",
    "def read_file(file_path, type):\n",
    "    if type == \"csv\":\n",
    "        data = read_csv(file_path)\n",
    "        return data.values\n",
    "    elif type == \"json\":\n",
    "        f = open(file_path)\n",
    "        data = json.load(f)\n",
    "        return data\n",
    "\n",
    "\n",
    "if __name__ == \"__main__\":\n",
    "    # parser\n",
    "    args = argument_parser.parse_args()\n",
    "    participants_path = args.participants_path\n",
    "    participant_idx = args.participant_idx\n",
    "    groundtruth_path = args.groundtruth_path\n",
    "    output_path = f'{args.output_path}\n",
    "    \n",
    "\n",
    "    \n",
    "    random_para = 10\n",
    "    # file path\n",
    "    session_path = f'{participants_path}/participant_{participant_idx}/participant_{participant_idx}_session.json'\n",
    "    truth_path = f'{groundtruth_path}/truth/participant_{participant_idx}_events.json'\n",
    "    yourPath = 'i5'"
   ]
  },
  {
   "cell_type": "code",
   "execution_count": 1,
   "id": "22793184",
   "metadata": {},
   "outputs": [
    {
     "ename": "NameError",
     "evalue": "name 'read_file' is not defined",
     "output_type": "error",
     "traceback": [
      "\u001b[0;31m---------------------------------------------------------------------------\u001b[0m",
      "\u001b[0;31mNameError\u001b[0m                                 Traceback (most recent call last)",
      "\u001b[0;32m<ipython-input-1-ddd2342e7ce1>\u001b[0m in \u001b[0;36masync-def-wrapper\u001b[0;34m()\u001b[0m\n\u001b[1;32m      6\u001b[0m  \u001b[0mgame_len\u001b[0m \u001b[0;34m=\u001b[0m \u001b[0mint\u001b[0m\u001b[0;34m(\u001b[0m\u001b[0mgame\u001b[0m\u001b[0;34m[\u001b[0m\u001b[0;34m\"obs_n\"\u001b[0m\u001b[0;34m]\u001b[0m\u001b[0;34m)\u001b[0m\u001b[0;34m\u001b[0m\u001b[0m\n",
      "\u001b[0;31mNameError\u001b[0m: name 'read_file' is not defined"
     ]
    }
   ],
   "source": [
    "   # event we have\n",
    "    event = {0:\"new_stage\", 1:\"flag_reached\", 2:\"status_up\", 3:\"status_down\", 4:\"life_lost\" ,5:\"nan\"}\n",
    "    out = {\"new_stage\":0, \"flag_reached\":1, \"status_up\":2, \"status_down\":3, \"life_lost\":4 ,\"nan\":5}\n",
    " # game frame number\n",
    "    game = read_file(session_path, \"json\")#frame的每個數字\n",
    "    game_len = int(game[\"obs_n\"])"
   ]
  },
  {
   "cell_type": "code",
   "execution_count": 139,
   "id": "e6930ecc",
   "metadata": {},
   "outputs": [
    {
     "data": {
      "text/plain": [
       "125493"
      ]
     },
     "execution_count": 139,
     "metadata": {},
     "output_type": "execute_result"
    }
   ],
   "source": [
    " game_len"
   ]
  },
  {
   "cell_type": "code",
   "execution_count": 140,
   "id": "b16cf9b7",
   "metadata": {},
   "outputs": [
    {
     "data": {
      "text/html": [
       "<div>\n",
       "<style scoped>\n",
       "    .dataframe tbody tr th:only-of-type {\n",
       "        vertical-align: middle;\n",
       "    }\n",
       "\n",
       "    .dataframe tbody tr th {\n",
       "        vertical-align: top;\n",
       "    }\n",
       "\n",
       "    .dataframe thead th {\n",
       "        text-align: right;\n",
       "    }\n",
       "</style>\n",
       "<table border=\"1\" class=\"dataframe\">\n",
       "  <thead>\n",
       "    <tr style=\"text-align: right;\">\n",
       "      <th></th>\n",
       "      <th>0</th>\n",
       "      <th>frame</th>\n",
       "    </tr>\n",
       "  </thead>\n",
       "  <tbody>\n",
       "    <tr>\n",
       "      <th>0</th>\n",
       "      <td>scripts/i5/game_1.png</td>\n",
       "      <td>1</td>\n",
       "    </tr>\n",
       "    <tr>\n",
       "      <th>1</th>\n",
       "      <td>scripts/i5/game_2.png</td>\n",
       "      <td>2</td>\n",
       "    </tr>\n",
       "    <tr>\n",
       "      <th>2</th>\n",
       "      <td>scripts/i5/game_3.png</td>\n",
       "      <td>3</td>\n",
       "    </tr>\n",
       "    <tr>\n",
       "      <th>3</th>\n",
       "      <td>scripts/i5/game_4.png</td>\n",
       "      <td>4</td>\n",
       "    </tr>\n",
       "    <tr>\n",
       "      <th>4</th>\n",
       "      <td>scripts/i5/game_5.png</td>\n",
       "      <td>5</td>\n",
       "    </tr>\n",
       "    <tr>\n",
       "      <th>...</th>\n",
       "      <td>...</td>\n",
       "      <td>...</td>\n",
       "    </tr>\n",
       "    <tr>\n",
       "      <th>125488</th>\n",
       "      <td>scripts/i5/game_125489.png</td>\n",
       "      <td>125489</td>\n",
       "    </tr>\n",
       "    <tr>\n",
       "      <th>125489</th>\n",
       "      <td>scripts/i5/game_125490.png</td>\n",
       "      <td>125490</td>\n",
       "    </tr>\n",
       "    <tr>\n",
       "      <th>125490</th>\n",
       "      <td>scripts/i5/game_125491.png</td>\n",
       "      <td>125491</td>\n",
       "    </tr>\n",
       "    <tr>\n",
       "      <th>125491</th>\n",
       "      <td>scripts/i5/game_125492.png</td>\n",
       "      <td>125492</td>\n",
       "    </tr>\n",
       "    <tr>\n",
       "      <th>125492</th>\n",
       "      <td>scripts/i5/game_125493.png</td>\n",
       "      <td>125493</td>\n",
       "    </tr>\n",
       "  </tbody>\n",
       "</table>\n",
       "<p>125493 rows × 2 columns</p>\n",
       "</div>"
      ],
      "text/plain": [
       "                                 0   frame\n",
       "0            scripts/i5/game_1.png       1\n",
       "1            scripts/i5/game_2.png       2\n",
       "2            scripts/i5/game_3.png       3\n",
       "3            scripts/i5/game_4.png       4\n",
       "4            scripts/i5/game_5.png       5\n",
       "...                            ...     ...\n",
       "125488  scripts/i5/game_125489.png  125489\n",
       "125489  scripts/i5/game_125490.png  125490\n",
       "125490  scripts/i5/game_125491.png  125491\n",
       "125491  scripts/i5/game_125492.png  125492\n",
       "125492  scripts/i5/game_125493.png  125493\n",
       "\n",
       "[125493 rows x 2 columns]"
      ]
     },
     "execution_count": 140,
     "metadata": {},
     "output_type": "execute_result"
    }
   ],
   "source": [
    "import os\n",
    "\n",
    "\n",
    "allFileList = os.listdir(yourPath)\n",
    "X_train = []\n",
    "Y_train = []\n",
    "P=[]\n",
    "num=[]\n",
    "for i in range(1,game_len+1):\n",
    "    num.append(i)\n",
    "    \n",
    "\n",
    "for i in range(1,game_len+1):\n",
    "        file='game_'+str(i)+'.png'\n",
    "        p = yourPath + \"/\" +file\n",
    "    #             img = cv2.imread(p)\n",
    "        P.append(p) \n",
    "\n",
    "df = pd.DataFrame(P)\n",
    "df['frame']= num\n",
    "df"
   ]
  },
  {
   "cell_type": "code",
   "execution_count": 141,
   "id": "7e0f2bd1",
   "metadata": {},
   "outputs": [],
   "source": [
    "model = keras.models.load_model('mariobalanced.h5')"
   ]
  },
  {
   "cell_type": "code",
   "execution_count": 142,
   "id": "726f3c9b",
   "metadata": {},
   "outputs": [],
   "source": [
    "d1 = df.loc[:10000]\n",
    "d2 = df.loc[10001:20000]\n",
    "d3 = df.loc[20001:30000]\n",
    "d4 = df.loc[30001:40000]\n",
    "d5 = df.loc[40001:50000]\n",
    "d6 = df.loc[50001:60000]\n",
    "d7 = df.loc[60001:70000]\n",
    "d8 = df.loc[70001:80000]\n",
    "d9 = df.loc[80001:90000]\n",
    "d10 = df.loc[90001:100000]\n",
    "d11 = df.loc[100001:110000]\n",
    "d12 = df.loc[110001:120000]\n",
    "d13 = df.loc[120001:(game_len-1)]\n",
    "datalist = [d1,d2,d3,d4,d5,d6,d7,d8,d9,d10,d11,d12,d13]"
   ]
  },
  {
   "cell_type": "code",
   "execution_count": 143,
   "id": "bae4ec17",
   "metadata": {},
   "outputs": [],
   "source": [
    "\n",
    "def predict(data):\n",
    "    X = data[0]\n",
    "    image_list = []\n",
    "    for file_name in X:\n",
    "        image_array = np.array(PIL.Image.open(file_name))\n",
    "        resized_image_array = cv2.resize(image_array, (128, 128))\n",
    "        image_list.append(resized_image_array)\n",
    "    train_images = np.array(image_list)\n",
    "\n",
    "    prediction = model.predict(train_images)\n",
    "    result = []\n",
    "\n",
    "    for i in prediction:\n",
    "            result.append(np.argmax(i))\n",
    "\n",
    "    re=[]\n",
    "    for i in result:\n",
    "        re.append(event[i])\n",
    "    data['result']=re\n",
    "    filt = (data['result'] != \"nan\")\n",
    "    data = data.loc[filt]\n",
    "    final = pd.concat([data['frame'], data['result']], axis = 1)\n",
    "    \n",
    "    return final\n"
   ]
  },
  {
   "cell_type": "code",
   "execution_count": 144,
   "id": "d27770f1",
   "metadata": {},
   "outputs": [
    {
     "name": "stderr",
     "output_type": "stream",
     "text": [
      "/Library/Frameworks/Python.framework/Versions/3.6/lib/python3.6/site-packages/ipykernel_launcher.py:19: SettingWithCopyWarning: \n",
      "A value is trying to be set on a copy of a slice from a DataFrame.\n",
      "Try using .loc[row_indexer,col_indexer] = value instead\n",
      "\n",
      "See the caveats in the documentation: https://pandas.pydata.org/pandas-docs/stable/user_guide/indexing.html#returning-a-view-versus-a-copy\n"
     ]
    },
    {
     "name": "stdout",
     "output_type": "stream",
     "text": [
      "1 fin\n",
      "2 fin\n",
      "3 fin\n",
      "4 fin\n",
      "5 fin\n",
      "6 fin\n",
      "7 fin\n",
      "8 fin\n",
      "9 fin\n",
      "10 fin\n",
      "11 fin\n",
      "12 fin\n",
      "13 fin\n"
     ]
    }
   ],
   "source": [
    "final = []\n",
    "for i in range(13):\n",
    "    f = predict(datalist[i])\n",
    "    final.append(f)\n",
    "    print(i+1,\"fin\")"
   ]
  },
  {
   "cell_type": "code",
   "execution_count": 145,
   "id": "699cefe7",
   "metadata": {},
   "outputs": [
    {
     "data": {
      "text/html": [
       "<div>\n",
       "<style scoped>\n",
       "    .dataframe tbody tr th:only-of-type {\n",
       "        vertical-align: middle;\n",
       "    }\n",
       "\n",
       "    .dataframe tbody tr th {\n",
       "        vertical-align: top;\n",
       "    }\n",
       "\n",
       "    .dataframe thead th {\n",
       "        text-align: right;\n",
       "    }\n",
       "</style>\n",
       "<table border=\"1\" class=\"dataframe\">\n",
       "  <thead>\n",
       "    <tr style=\"text-align: right;\">\n",
       "      <th></th>\n",
       "      <th>frame</th>\n",
       "      <th>result</th>\n",
       "    </tr>\n",
       "  </thead>\n",
       "  <tbody>\n",
       "    <tr>\n",
       "      <th>937</th>\n",
       "      <td>938</td>\n",
       "      <td>status_up</td>\n",
       "    </tr>\n",
       "    <tr>\n",
       "      <th>1953</th>\n",
       "      <td>1954</td>\n",
       "      <td>status_up</td>\n",
       "    </tr>\n",
       "    <tr>\n",
       "      <th>1954</th>\n",
       "      <td>1955</td>\n",
       "      <td>status_up</td>\n",
       "    </tr>\n",
       "    <tr>\n",
       "      <th>1955</th>\n",
       "      <td>1956</td>\n",
       "      <td>status_up</td>\n",
       "    </tr>\n",
       "    <tr>\n",
       "      <th>2904</th>\n",
       "      <td>2905</td>\n",
       "      <td>status_down</td>\n",
       "    </tr>\n",
       "    <tr>\n",
       "      <th>...</th>\n",
       "      <td>...</td>\n",
       "      <td>...</td>\n",
       "    </tr>\n",
       "    <tr>\n",
       "      <th>123769</th>\n",
       "      <td>123770</td>\n",
       "      <td>life_lost</td>\n",
       "    </tr>\n",
       "    <tr>\n",
       "      <th>123770</th>\n",
       "      <td>123771</td>\n",
       "      <td>life_lost</td>\n",
       "    </tr>\n",
       "    <tr>\n",
       "      <th>123771</th>\n",
       "      <td>123772</td>\n",
       "      <td>life_lost</td>\n",
       "    </tr>\n",
       "    <tr>\n",
       "      <th>125335</th>\n",
       "      <td>125336</td>\n",
       "      <td>status_up</td>\n",
       "    </tr>\n",
       "    <tr>\n",
       "      <th>125336</th>\n",
       "      <td>125337</td>\n",
       "      <td>status_up</td>\n",
       "    </tr>\n",
       "  </tbody>\n",
       "</table>\n",
       "<p>357 rows × 2 columns</p>\n",
       "</div>"
      ],
      "text/plain": [
       "         frame       result\n",
       "937        938    status_up\n",
       "1953      1954    status_up\n",
       "1954      1955    status_up\n",
       "1955      1956    status_up\n",
       "2904      2905  status_down\n",
       "...        ...          ...\n",
       "123769  123770    life_lost\n",
       "123770  123771    life_lost\n",
       "123771  123772    life_lost\n",
       "125335  125336    status_up\n",
       "125336  125337    status_up\n",
       "\n",
       "[357 rows x 2 columns]"
      ]
     },
     "execution_count": 145,
     "metadata": {},
     "output_type": "execute_result"
    }
   ],
   "source": [
    "output = pd.concat([final[0],final[1],final[2],final[3],final[4],final[5],final[6],final[7],final[8],final[9],final[10],final[11],final[12]], axis = 0)\n",
    "output"
   ]
  },
  {
   "cell_type": "code",
   "execution_count": 146,
   "id": "de264719",
   "metadata": {},
   "outputs": [],
   "source": [
    "    # write output\n",
    "    output_path='run/participant_5_events.csv'\n",
    "    output.to_csv(output_path, index = False,header=False)"
   ]
  },
  {
   "cell_type": "code",
   "execution_count": null,
   "id": "6a3f72bd",
   "metadata": {},
   "outputs": [],
   "source": []
  }
 ],
 "metadata": {
  "kernelspec": {
   "display_name": "Python 3",
   "language": "python",
   "name": "python3"
  },
  "language_info": {
   "codemirror_mode": {
    "name": "ipython",
    "version": 3
   },
   "file_extension": ".py",
   "mimetype": "text/x-python",
   "name": "python",
   "nbconvert_exporter": "python",
   "pygments_lexer": "ipython3",
   "version": "3.6.5"
  }
 },
 "nbformat": 4,
 "nbformat_minor": 5
}
