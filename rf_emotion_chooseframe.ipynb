{
 "cells": [
  {
   "cell_type": "code",
   "execution_count": 85,
   "id": "a0457ba9",
   "metadata": {},
   "outputs": [],
   "source": [
    "import sys\n",
    "import json\n",
    "import argparse\n",
    "import random\n",
    "import csv\n",
    "import numpy as np\n",
    "from scipy.signal import argrelextrema\n",
    "from pandas import read_csv\n",
    "import random\n",
    "\n",
    "\n",
    "import tensorflow as tf\n",
    "import keras\n",
    "import PIL\n",
    "import numpy as np\n",
    "import pandas as pd\n",
    "import os\n",
    "import math\n",
    "from sklearn.model_selection import train_test_split\n",
    "import cv2\n",
    "from keras.models import Sequential\n",
    "from keras.layers import Conv2D, MaxPooling2D, Activation, Dropout, Flatten, Dense, Dropout, BatchNormalization\n",
    "def read_file(file_path, type):\n",
    "    if type == \"csv\":\n",
    "        data = read_csv(file_path)\n",
    "        return data.values\n",
    "    elif type == \"json\":\n",
    "        f = open(file_path)\n",
    "        data = json.load(f)\n",
    "        return data"
   ]
  },
  {
   "cell_type": "code",
   "execution_count": 96,
   "id": "7c9ae8fa",
   "metadata": {},
   "outputs": [],
   "source": [
    "session_path = 'toadstool/participants/participant_3/participant_3_session.json'\n",
    "truth_path = 'truth/participant_3_events.json'\n",
    "vtruth_path = 'vtruth/participant_3_video.csv'"
   ]
  },
  {
   "cell_type": "code",
   "execution_count": 97,
   "id": "51c02437",
   "metadata": {},
   "outputs": [],
   "source": [
    "    event = {0:\"new_stage\", 1:\"flag_reached\", 2:\"status_up\", 3:\"status_down\", 4:\"life_lost\"}\n",
    "    out = {\"new_stage\":0, \"flag_reached\":1, \"status_up\":2, \"status_down\":3, \"life_lost\":4}\n",
    " # game frame number\n",
    "    game = read_file(session_path, \"json\")#frame的每個數字\n",
    "    game_len = int(game[\"obs_n\"])"
   ]
  },
  {
   "cell_type": "code",
   "execution_count": 98,
   "id": "e6930ecc",
   "metadata": {},
   "outputs": [
    {
     "data": {
      "text/plain": [
       "124867"
      ]
     },
     "execution_count": 98,
     "metadata": {},
     "output_type": "execute_result"
    }
   ],
   "source": [
    " game_len"
   ]
  },
  {
   "cell_type": "code",
   "execution_count": 86,
   "id": "7196421e",
   "metadata": {},
   "outputs": [],
   "source": [
    "p0='emotrain/e0.csv'\n",
    "p1='emotrain/e1.csv'\n",
    "p3='emotrain/e3.csv'\n",
    "p5='emotrain/e5.csv'\n",
    "p6='emotrain/e6.csv'\n",
    "p8='emotrain/e8.csv'\n",
    "p9='emotrain/e9.csv'"
   ]
  },
  {
   "cell_type": "code",
   "execution_count": 87,
   "id": "7453308c",
   "metadata": {},
   "outputs": [],
   "source": [
    "t0 = read_file(p0, \"csv\")\n",
    "t1 = read_file(p1, \"csv\")\n",
    "t3 = read_file(p3, \"csv\")\n",
    "t5 = read_file(p5, \"csv\")\n",
    "t6 = read_file(p6, \"csv\")\n",
    "t8 = read_file(p8, \"csv\")\n",
    "t9 = read_file(p9, \"csv\")"
   ]
  },
  {
   "cell_type": "code",
   "execution_count": 88,
   "id": "171cde3e",
   "metadata": {},
   "outputs": [],
   "source": [
    "t0 = pd.DataFrame(t0)\n",
    "t1 = pd.DataFrame(t1)\n",
    "t3 = pd.DataFrame(t3)\n",
    "t5 = pd.DataFrame(t5)\n",
    "t6 = pd.DataFrame(t6)\n",
    "t8 = pd.DataFrame(t8)\n",
    "t9 = pd.DataFrame(t9)"
   ]
  },
  {
   "cell_type": "code",
   "execution_count": 148,
   "id": "a4520ea5",
   "metadata": {},
   "outputs": [],
   "source": [
    "inp0='emoinput/p0_emotion.csv'\n",
    "inp2='emoinput/p2_emotion.csv'\n",
    "inp3='emoinput/p3_emotion.csv'\n",
    "inp4='emoinput/p4_emotion.csv'\n",
    "inp5='emoinput/p5_emotion.csv'\n",
    "inp7='emoinput/p7_emotion.csv'"
   ]
  },
  {
   "cell_type": "code",
   "execution_count": 182,
   "id": "8817bd9e",
   "metadata": {},
   "outputs": [],
   "source": [
    "in0 = read_file(inp0, \"csv\")\n",
    "in2 = read_file(inp2, \"csv\")\n",
    "in2 = read_file(inp2, \"csv\")\n",
    "in3 = read_file(inp3, \"csv\")\n",
    "in4 = read_file(inp4, \"csv\")\n",
    "in5 = read_file(inp5, \"csv\")\n",
    "in7 = read_file(inp7, \"csv\")"
   ]
  },
  {
   "cell_type": "code",
   "execution_count": 255,
   "id": "38198c99",
   "metadata": {},
   "outputs": [],
   "source": [
    "temotion = pd.DataFrame(in0)"
   ]
  },
  {
   "cell_type": "code",
   "execution_count": 256,
   "id": "907ce85e",
   "metadata": {},
   "outputs": [
    {
     "data": {
      "text/plain": [
       "6289"
      ]
     },
     "execution_count": 256,
     "metadata": {},
     "output_type": "execute_result"
    }
   ],
   "source": [
    "temotion.shape[0]"
   ]
  },
  {
   "cell_type": "code",
   "execution_count": 257,
   "id": "a43797e1",
   "metadata": {},
   "outputs": [
    {
     "data": {
      "text/html": [
       "<div>\n",
       "<style scoped>\n",
       "    .dataframe tbody tr th:only-of-type {\n",
       "        vertical-align: middle;\n",
       "    }\n",
       "\n",
       "    .dataframe tbody tr th {\n",
       "        vertical-align: top;\n",
       "    }\n",
       "\n",
       "    .dataframe thead th {\n",
       "        text-align: right;\n",
       "    }\n",
       "</style>\n",
       "<table border=\"1\" class=\"dataframe\">\n",
       "  <thead>\n",
       "    <tr style=\"text-align: right;\">\n",
       "      <th></th>\n",
       "      <th>1</th>\n",
       "      <th>2</th>\n",
       "      <th>3</th>\n",
       "      <th>4</th>\n",
       "      <th>5</th>\n",
       "      <th>6</th>\n",
       "      <th>7</th>\n",
       "      <th>8</th>\n",
       "    </tr>\n",
       "    <tr>\n",
       "      <th>8</th>\n",
       "      <th></th>\n",
       "      <th></th>\n",
       "      <th></th>\n",
       "      <th></th>\n",
       "      <th></th>\n",
       "      <th></th>\n",
       "      <th></th>\n",
       "      <th></th>\n",
       "    </tr>\n",
       "  </thead>\n",
       "  <tbody>\n",
       "    <tr>\n",
       "      <th>0.0</th>\n",
       "      <td>0.00</td>\n",
       "      <td>0.0</td>\n",
       "      <td>0.02</td>\n",
       "      <td>0.22</td>\n",
       "      <td>0.03</td>\n",
       "      <td>0.00</td>\n",
       "      <td>0.72</td>\n",
       "      <td>0.0</td>\n",
       "    </tr>\n",
       "    <tr>\n",
       "      <th>10.0</th>\n",
       "      <td>0.00</td>\n",
       "      <td>0.0</td>\n",
       "      <td>0.02</td>\n",
       "      <td>0.06</td>\n",
       "      <td>0.02</td>\n",
       "      <td>0.00</td>\n",
       "      <td>0.90</td>\n",
       "      <td>10.0</td>\n",
       "    </tr>\n",
       "    <tr>\n",
       "      <th>20.0</th>\n",
       "      <td>0.00</td>\n",
       "      <td>0.0</td>\n",
       "      <td>0.01</td>\n",
       "      <td>0.06</td>\n",
       "      <td>0.01</td>\n",
       "      <td>0.00</td>\n",
       "      <td>0.91</td>\n",
       "      <td>20.0</td>\n",
       "    </tr>\n",
       "    <tr>\n",
       "      <th>30.0</th>\n",
       "      <td>0.00</td>\n",
       "      <td>0.0</td>\n",
       "      <td>0.03</td>\n",
       "      <td>0.04</td>\n",
       "      <td>0.03</td>\n",
       "      <td>0.00</td>\n",
       "      <td>0.89</td>\n",
       "      <td>30.0</td>\n",
       "    </tr>\n",
       "    <tr>\n",
       "      <th>40.0</th>\n",
       "      <td>0.00</td>\n",
       "      <td>0.0</td>\n",
       "      <td>0.02</td>\n",
       "      <td>0.12</td>\n",
       "      <td>0.02</td>\n",
       "      <td>0.00</td>\n",
       "      <td>0.84</td>\n",
       "      <td>40.0</td>\n",
       "    </tr>\n",
       "    <tr>\n",
       "      <th>...</th>\n",
       "      <td>...</td>\n",
       "      <td>...</td>\n",
       "      <td>...</td>\n",
       "      <td>...</td>\n",
       "      <td>...</td>\n",
       "      <td>...</td>\n",
       "      <td>...</td>\n",
       "      <td>...</td>\n",
       "    </tr>\n",
       "    <tr>\n",
       "      <th>62870.0</th>\n",
       "      <td>0.04</td>\n",
       "      <td>0.0</td>\n",
       "      <td>0.16</td>\n",
       "      <td>0.07</td>\n",
       "      <td>0.08</td>\n",
       "      <td>0.01</td>\n",
       "      <td>0.64</td>\n",
       "      <td>62870.0</td>\n",
       "    </tr>\n",
       "    <tr>\n",
       "      <th>62880.0</th>\n",
       "      <td>0.02</td>\n",
       "      <td>0.0</td>\n",
       "      <td>0.16</td>\n",
       "      <td>0.17</td>\n",
       "      <td>0.11</td>\n",
       "      <td>0.01</td>\n",
       "      <td>0.51</td>\n",
       "      <td>62880.0</td>\n",
       "    </tr>\n",
       "    <tr>\n",
       "      <th>62890.0</th>\n",
       "      <td>0.02</td>\n",
       "      <td>0.0</td>\n",
       "      <td>0.38</td>\n",
       "      <td>0.16</td>\n",
       "      <td>0.24</td>\n",
       "      <td>0.09</td>\n",
       "      <td>0.10</td>\n",
       "      <td>62890.0</td>\n",
       "    </tr>\n",
       "    <tr>\n",
       "      <th>62900.0</th>\n",
       "      <td>0.02</td>\n",
       "      <td>0.0</td>\n",
       "      <td>0.13</td>\n",
       "      <td>0.45</td>\n",
       "      <td>0.17</td>\n",
       "      <td>0.03</td>\n",
       "      <td>0.21</td>\n",
       "      <td>62900.0</td>\n",
       "    </tr>\n",
       "    <tr>\n",
       "      <th>62910.0</th>\n",
       "      <td>0.03</td>\n",
       "      <td>0.0</td>\n",
       "      <td>0.09</td>\n",
       "      <td>0.24</td>\n",
       "      <td>0.19</td>\n",
       "      <td>0.04</td>\n",
       "      <td>0.42</td>\n",
       "      <td>62910.0</td>\n",
       "    </tr>\n",
       "  </tbody>\n",
       "</table>\n",
       "<p>6289 rows × 8 columns</p>\n",
       "</div>"
      ],
      "text/plain": [
       "            1    2     3     4     5     6     7        8\n",
       "8                                                        \n",
       "0.0      0.00  0.0  0.02  0.22  0.03  0.00  0.72      0.0\n",
       "10.0     0.00  0.0  0.02  0.06  0.02  0.00  0.90     10.0\n",
       "20.0     0.00  0.0  0.01  0.06  0.01  0.00  0.91     20.0\n",
       "30.0     0.00  0.0  0.03  0.04  0.03  0.00  0.89     30.0\n",
       "40.0     0.00  0.0  0.02  0.12  0.02  0.00  0.84     40.0\n",
       "...       ...  ...   ...   ...   ...   ...   ...      ...\n",
       "62870.0  0.04  0.0  0.16  0.07  0.08  0.01  0.64  62870.0\n",
       "62880.0  0.02  0.0  0.16  0.17  0.11  0.01  0.51  62880.0\n",
       "62890.0  0.02  0.0  0.38  0.16  0.24  0.09  0.10  62890.0\n",
       "62900.0  0.02  0.0  0.13  0.45  0.17  0.03  0.21  62900.0\n",
       "62910.0  0.03  0.0  0.09  0.24  0.19  0.04  0.42  62910.0\n",
       "\n",
       "[6289 rows x 8 columns]"
      ]
     },
     "execution_count": 257,
     "metadata": {},
     "output_type": "execute_result"
    }
   ],
   "source": [
    "temotion.set_index(temotion[8],inplace=True)\n",
    "temotion = temotion.drop([0],axis=1)\n",
    "temotion"
   ]
  },
  {
   "cell_type": "code",
   "execution_count": 258,
   "id": "d1674f38",
   "metadata": {},
   "outputs": [],
   "source": [
    "# Scale the data\n",
    "from sklearn.preprocessing import MinMaxScaler\n",
    "import numpy as ny\n",
    "newframe = []\n",
    "frame = list(range(temotion.shape[0]))\n",
    "frame=np.array(frame)\n",
    "frame = frame[:,np.newaxis]\n",
    "\n",
    "scaler = MinMaxScaler(feature_range=(0,1))\n",
    "scaled = scaler.fit_transform(frame)\n",
    "\n",
    "for i in scaled:\n",
    "    i=float(i*game_len)\n",
    "    newframe.append(round(i))"
   ]
  },
  {
   "cell_type": "code",
   "execution_count": 259,
   "id": "aa9c36b3",
   "metadata": {},
   "outputs": [
    {
     "data": {
      "text/html": [
       "<div>\n",
       "<style scoped>\n",
       "    .dataframe tbody tr th:only-of-type {\n",
       "        vertical-align: middle;\n",
       "    }\n",
       "\n",
       "    .dataframe tbody tr th {\n",
       "        vertical-align: top;\n",
       "    }\n",
       "\n",
       "    .dataframe thead th {\n",
       "        text-align: right;\n",
       "    }\n",
       "</style>\n",
       "<table border=\"1\" class=\"dataframe\">\n",
       "  <thead>\n",
       "    <tr style=\"text-align: right;\">\n",
       "      <th></th>\n",
       "      <th>fear</th>\n",
       "      <th>happy</th>\n",
       "      <th>sad</th>\n",
       "    </tr>\n",
       "    <tr>\n",
       "      <th>normalize</th>\n",
       "      <th></th>\n",
       "      <th></th>\n",
       "      <th></th>\n",
       "    </tr>\n",
       "  </thead>\n",
       "  <tbody>\n",
       "    <tr>\n",
       "      <th>0</th>\n",
       "      <td>0.02</td>\n",
       "      <td>0.22</td>\n",
       "      <td>0.03</td>\n",
       "    </tr>\n",
       "    <tr>\n",
       "      <th>20</th>\n",
       "      <td>0.02</td>\n",
       "      <td>0.06</td>\n",
       "      <td>0.02</td>\n",
       "    </tr>\n",
       "    <tr>\n",
       "      <th>40</th>\n",
       "      <td>0.01</td>\n",
       "      <td>0.06</td>\n",
       "      <td>0.01</td>\n",
       "    </tr>\n",
       "    <tr>\n",
       "      <th>60</th>\n",
       "      <td>0.03</td>\n",
       "      <td>0.04</td>\n",
       "      <td>0.03</td>\n",
       "    </tr>\n",
       "    <tr>\n",
       "      <th>79</th>\n",
       "      <td>0.02</td>\n",
       "      <td>0.12</td>\n",
       "      <td>0.02</td>\n",
       "    </tr>\n",
       "    <tr>\n",
       "      <th>...</th>\n",
       "      <td>...</td>\n",
       "      <td>...</td>\n",
       "      <td>...</td>\n",
       "    </tr>\n",
       "    <tr>\n",
       "      <th>124788</th>\n",
       "      <td>0.16</td>\n",
       "      <td>0.07</td>\n",
       "      <td>0.08</td>\n",
       "    </tr>\n",
       "    <tr>\n",
       "      <th>124807</th>\n",
       "      <td>0.16</td>\n",
       "      <td>0.17</td>\n",
       "      <td>0.11</td>\n",
       "    </tr>\n",
       "    <tr>\n",
       "      <th>124827</th>\n",
       "      <td>0.38</td>\n",
       "      <td>0.16</td>\n",
       "      <td>0.24</td>\n",
       "    </tr>\n",
       "    <tr>\n",
       "      <th>124847</th>\n",
       "      <td>0.13</td>\n",
       "      <td>0.45</td>\n",
       "      <td>0.17</td>\n",
       "    </tr>\n",
       "    <tr>\n",
       "      <th>124867</th>\n",
       "      <td>0.09</td>\n",
       "      <td>0.24</td>\n",
       "      <td>0.19</td>\n",
       "    </tr>\n",
       "  </tbody>\n",
       "</table>\n",
       "<p>6289 rows × 3 columns</p>\n",
       "</div>"
      ],
      "text/plain": [
       "           fear  happy   sad\n",
       "normalize                   \n",
       "0          0.02   0.22  0.03\n",
       "20         0.02   0.06  0.02\n",
       "40         0.01   0.06  0.01\n",
       "60         0.03   0.04  0.03\n",
       "79         0.02   0.12  0.02\n",
       "...         ...    ...   ...\n",
       "124788     0.16   0.07  0.08\n",
       "124807     0.16   0.17  0.11\n",
       "124827     0.38   0.16  0.24\n",
       "124847     0.13   0.45  0.17\n",
       "124867     0.09   0.24  0.19\n",
       "\n",
       "[6289 rows x 3 columns]"
      ]
     },
     "execution_count": 259,
     "metadata": {},
     "output_type": "execute_result"
    }
   ],
   "source": [
    "temotion['normalize'] = newframe\n",
    "temotion.set_index(temotion['normalize'],inplace=True)\n",
    "temotion = temotion.drop(['normalize'],axis=1)\n",
    "#drop 2,3,7,8 angry,disgust,surprise,neutral,box\n",
    "temotion = temotion.drop([2],axis=1)\n",
    "temotion = temotion.drop([7],axis=1)\n",
    "temotion = temotion.drop([8],axis=1)\n",
    "temotion.columns = ['angry','fear','happy','sad','surprise']\n",
    "temotion = temotion.drop(['angry'],axis=1)\n",
    "temotion = temotion.drop(['surprise'],axis=1)\n",
    "temotion"
   ]
  },
  {
   "cell_type": "code",
   "execution_count": 274,
   "id": "a1f16df3",
   "metadata": {},
   "outputs": [
    {
     "data": {
      "text/html": [
       "<div>\n",
       "<style scoped>\n",
       "    .dataframe tbody tr th:only-of-type {\n",
       "        vertical-align: middle;\n",
       "    }\n",
       "\n",
       "    .dataframe tbody tr th {\n",
       "        vertical-align: top;\n",
       "    }\n",
       "\n",
       "    .dataframe thead th {\n",
       "        text-align: right;\n",
       "    }\n",
       "</style>\n",
       "<table border=\"1\" class=\"dataframe\">\n",
       "  <thead>\n",
       "    <tr style=\"text-align: right;\">\n",
       "      <th></th>\n",
       "      <th>0</th>\n",
       "      <th>1</th>\n",
       "      <th>2</th>\n",
       "      <th>3</th>\n",
       "      <th>4</th>\n",
       "      <th>5</th>\n",
       "      <th>6</th>\n",
       "      <th>7</th>\n",
       "    </tr>\n",
       "  </thead>\n",
       "  <tbody>\n",
       "    <tr>\n",
       "      <th>0</th>\n",
       "      <td>0.0</td>\n",
       "      <td>0.01</td>\n",
       "      <td>0.04</td>\n",
       "      <td>0.07</td>\n",
       "      <td>0.06</td>\n",
       "      <td>0.00</td>\n",
       "      <td>0.0</td>\n",
       "      <td>0.0</td>\n",
       "    </tr>\n",
       "    <tr>\n",
       "      <th>1</th>\n",
       "      <td>2.0</td>\n",
       "      <td>0.01</td>\n",
       "      <td>0.03</td>\n",
       "      <td>0.08</td>\n",
       "      <td>0.03</td>\n",
       "      <td>0.00</td>\n",
       "      <td>1.0</td>\n",
       "      <td>0.0</td>\n",
       "    </tr>\n",
       "    <tr>\n",
       "      <th>2</th>\n",
       "      <td>4.0</td>\n",
       "      <td>0.01</td>\n",
       "      <td>0.04</td>\n",
       "      <td>0.05</td>\n",
       "      <td>0.05</td>\n",
       "      <td>0.00</td>\n",
       "      <td>2.0</td>\n",
       "      <td>0.0</td>\n",
       "    </tr>\n",
       "    <tr>\n",
       "      <th>3</th>\n",
       "      <td>6.0</td>\n",
       "      <td>0.01</td>\n",
       "      <td>0.04</td>\n",
       "      <td>0.08</td>\n",
       "      <td>0.03</td>\n",
       "      <td>0.00</td>\n",
       "      <td>3.0</td>\n",
       "      <td>0.0</td>\n",
       "    </tr>\n",
       "    <tr>\n",
       "      <th>4</th>\n",
       "      <td>8.0</td>\n",
       "      <td>0.00</td>\n",
       "      <td>0.04</td>\n",
       "      <td>0.07</td>\n",
       "      <td>0.02</td>\n",
       "      <td>0.00</td>\n",
       "      <td>4.0</td>\n",
       "      <td>0.0</td>\n",
       "    </tr>\n",
       "    <tr>\n",
       "      <th>...</th>\n",
       "      <td>...</td>\n",
       "      <td>...</td>\n",
       "      <td>...</td>\n",
       "      <td>...</td>\n",
       "      <td>...</td>\n",
       "      <td>...</td>\n",
       "      <td>...</td>\n",
       "      <td>...</td>\n",
       "    </tr>\n",
       "    <tr>\n",
       "      <th>62953</th>\n",
       "      <td>125373.0</td>\n",
       "      <td>0.03</td>\n",
       "      <td>0.10</td>\n",
       "      <td>0.64</td>\n",
       "      <td>0.02</td>\n",
       "      <td>0.19</td>\n",
       "      <td>62953.0</td>\n",
       "      <td>0.0</td>\n",
       "    </tr>\n",
       "    <tr>\n",
       "      <th>62954</th>\n",
       "      <td>125375.0</td>\n",
       "      <td>0.00</td>\n",
       "      <td>0.01</td>\n",
       "      <td>0.95</td>\n",
       "      <td>0.00</td>\n",
       "      <td>0.03</td>\n",
       "      <td>62954.0</td>\n",
       "      <td>0.0</td>\n",
       "    </tr>\n",
       "    <tr>\n",
       "      <th>62955</th>\n",
       "      <td>125377.0</td>\n",
       "      <td>0.00</td>\n",
       "      <td>0.03</td>\n",
       "      <td>0.89</td>\n",
       "      <td>0.00</td>\n",
       "      <td>0.07</td>\n",
       "      <td>62955.0</td>\n",
       "      <td>0.0</td>\n",
       "    </tr>\n",
       "    <tr>\n",
       "      <th>62956</th>\n",
       "      <td>125379.0</td>\n",
       "      <td>0.00</td>\n",
       "      <td>0.01</td>\n",
       "      <td>0.97</td>\n",
       "      <td>0.00</td>\n",
       "      <td>0.02</td>\n",
       "      <td>62956.0</td>\n",
       "      <td>0.0</td>\n",
       "    </tr>\n",
       "    <tr>\n",
       "      <th>62957</th>\n",
       "      <td>125381.0</td>\n",
       "      <td>0.00</td>\n",
       "      <td>0.00</td>\n",
       "      <td>0.99</td>\n",
       "      <td>0.00</td>\n",
       "      <td>0.01</td>\n",
       "      <td>62957.0</td>\n",
       "      <td>0.0</td>\n",
       "    </tr>\n",
       "  </tbody>\n",
       "</table>\n",
       "<p>440305 rows × 8 columns</p>\n",
       "</div>"
      ],
      "text/plain": [
       "              0     1     2     3     4     5        6    7\n",
       "0           0.0  0.01  0.04  0.07  0.06  0.00      0.0  0.0\n",
       "1           2.0  0.01  0.03  0.08  0.03  0.00      1.0  0.0\n",
       "2           4.0  0.01  0.04  0.05  0.05  0.00      2.0  0.0\n",
       "3           6.0  0.01  0.04  0.08  0.03  0.00      3.0  0.0\n",
       "4           8.0  0.00  0.04  0.07  0.02  0.00      4.0  0.0\n",
       "...         ...   ...   ...   ...   ...   ...      ...  ...\n",
       "62953  125373.0  0.03  0.10  0.64  0.02  0.19  62953.0  0.0\n",
       "62954  125375.0  0.00  0.01  0.95  0.00  0.03  62954.0  0.0\n",
       "62955  125377.0  0.00  0.03  0.89  0.00  0.07  62955.0  0.0\n",
       "62956  125379.0  0.00  0.01  0.97  0.00  0.02  62956.0  0.0\n",
       "62957  125381.0  0.00  0.00  0.99  0.00  0.01  62957.0  0.0\n",
       "\n",
       "[440305 rows x 8 columns]"
      ]
     },
     "execution_count": 274,
     "metadata": {},
     "output_type": "execute_result"
    }
   ],
   "source": [
    "emotion = pd.concat([t0,t1,t3,t5,t6,t8,t9])\n",
    "emotion"
   ]
  },
  {
   "cell_type": "code",
   "execution_count": 275,
   "id": "1461e539",
   "metadata": {},
   "outputs": [],
   "source": [
    "y_train = emotion[7]\n",
    "x_train =emotion.drop([6],axis=1)\n",
    "x_train =x_train.drop([0],axis=1)\n",
    "x_train =x_train.drop([7],axis=1)\n",
    "x_train =x_train.drop([1],axis=1)\n",
    "x_train =x_train.drop([5],axis=1)"
   ]
  },
  {
   "cell_type": "code",
   "execution_count": 276,
   "id": "11542393",
   "metadata": {},
   "outputs": [
    {
     "data": {
      "text/html": [
       "<div>\n",
       "<style scoped>\n",
       "    .dataframe tbody tr th:only-of-type {\n",
       "        vertical-align: middle;\n",
       "    }\n",
       "\n",
       "    .dataframe tbody tr th {\n",
       "        vertical-align: top;\n",
       "    }\n",
       "\n",
       "    .dataframe thead th {\n",
       "        text-align: right;\n",
       "    }\n",
       "</style>\n",
       "<table border=\"1\" class=\"dataframe\">\n",
       "  <thead>\n",
       "    <tr style=\"text-align: right;\">\n",
       "      <th></th>\n",
       "      <th>2</th>\n",
       "      <th>3</th>\n",
       "      <th>4</th>\n",
       "    </tr>\n",
       "  </thead>\n",
       "  <tbody>\n",
       "    <tr>\n",
       "      <th>0</th>\n",
       "      <td>0.04</td>\n",
       "      <td>0.07</td>\n",
       "      <td>0.06</td>\n",
       "    </tr>\n",
       "    <tr>\n",
       "      <th>1</th>\n",
       "      <td>0.03</td>\n",
       "      <td>0.08</td>\n",
       "      <td>0.03</td>\n",
       "    </tr>\n",
       "    <tr>\n",
       "      <th>2</th>\n",
       "      <td>0.04</td>\n",
       "      <td>0.05</td>\n",
       "      <td>0.05</td>\n",
       "    </tr>\n",
       "    <tr>\n",
       "      <th>3</th>\n",
       "      <td>0.04</td>\n",
       "      <td>0.08</td>\n",
       "      <td>0.03</td>\n",
       "    </tr>\n",
       "    <tr>\n",
       "      <th>4</th>\n",
       "      <td>0.04</td>\n",
       "      <td>0.07</td>\n",
       "      <td>0.02</td>\n",
       "    </tr>\n",
       "    <tr>\n",
       "      <th>...</th>\n",
       "      <td>...</td>\n",
       "      <td>...</td>\n",
       "      <td>...</td>\n",
       "    </tr>\n",
       "    <tr>\n",
       "      <th>62953</th>\n",
       "      <td>0.10</td>\n",
       "      <td>0.64</td>\n",
       "      <td>0.02</td>\n",
       "    </tr>\n",
       "    <tr>\n",
       "      <th>62954</th>\n",
       "      <td>0.01</td>\n",
       "      <td>0.95</td>\n",
       "      <td>0.00</td>\n",
       "    </tr>\n",
       "    <tr>\n",
       "      <th>62955</th>\n",
       "      <td>0.03</td>\n",
       "      <td>0.89</td>\n",
       "      <td>0.00</td>\n",
       "    </tr>\n",
       "    <tr>\n",
       "      <th>62956</th>\n",
       "      <td>0.01</td>\n",
       "      <td>0.97</td>\n",
       "      <td>0.00</td>\n",
       "    </tr>\n",
       "    <tr>\n",
       "      <th>62957</th>\n",
       "      <td>0.00</td>\n",
       "      <td>0.99</td>\n",
       "      <td>0.00</td>\n",
       "    </tr>\n",
       "  </tbody>\n",
       "</table>\n",
       "<p>440305 rows × 3 columns</p>\n",
       "</div>"
      ],
      "text/plain": [
       "          2     3     4\n",
       "0      0.04  0.07  0.06\n",
       "1      0.03  0.08  0.03\n",
       "2      0.04  0.05  0.05\n",
       "3      0.04  0.08  0.03\n",
       "4      0.04  0.07  0.02\n",
       "...     ...   ...   ...\n",
       "62953  0.10  0.64  0.02\n",
       "62954  0.01  0.95  0.00\n",
       "62955  0.03  0.89  0.00\n",
       "62956  0.01  0.97  0.00\n",
       "62957  0.00  0.99  0.00\n",
       "\n",
       "[440305 rows x 3 columns]"
      ]
     },
     "execution_count": 276,
     "metadata": {},
     "output_type": "execute_result"
    }
   ],
   "source": [
    "x_train"
   ]
  },
  {
   "cell_type": "code",
   "execution_count": 277,
   "id": "eceac8e5",
   "metadata": {},
   "outputs": [
    {
     "data": {
      "text/plain": [
       "(440305, 3)"
      ]
     },
     "execution_count": 277,
     "metadata": {},
     "output_type": "execute_result"
    }
   ],
   "source": [
    "x_train.shape"
   ]
  },
  {
   "cell_type": "code",
   "execution_count": 278,
   "id": "aece96b0",
   "metadata": {},
   "outputs": [
    {
     "data": {
      "text/plain": [
       "(440305,)"
      ]
     },
     "execution_count": 278,
     "metadata": {},
     "output_type": "execute_result"
    }
   ],
   "source": [
    "y_train.shape"
   ]
  },
  {
   "cell_type": "code",
   "execution_count": 288,
   "id": "b9cddb78",
   "metadata": {},
   "outputs": [],
   "source": [
    "import numpy as np    \n",
    "from keras.layers.convolutional import Conv1D    \n",
    "from keras.layers.convolutional import MaxPooling1D   \n",
    "from keras.models import Sequential     "
   ]
  },
  {
   "cell_type": "code",
   "execution_count": null,
   "id": "fd7e00a1",
   "metadata": {},
   "outputs": [],
   "source": [
    "model = Sequential()\n",
    "n_timesteps, n_features, n_outputs = x_train.shape[0], x_train.shape[1], y_train.shape[0]\n",
    "model.add(Conv1D(input_shape=(n_timesteps,n_features),filters=64, kernel_size=3, activation='relu'))\n",
    "model.add(Conv1D(filters=64, kernel_size=3, activation='relu'))\n",
    "model.add(Dropout(0.5))\n",
    "model.add(MaxPooling1D(pool_size=2))\n",
    "model.add(Flatten())\n",
    "model.add(Dense(100, activation='relu'))\n",
    "model.add(Dense(units=1, activation='sigmoid'))\n",
    "\n",
    "model.summary()"
   ]
  },
  {
   "cell_type": "code",
   "execution_count": null,
   "id": "151c36bf",
   "metadata": {},
   "outputs": [],
   "source": [
    "callback = tf.keras.callbacks.EarlyStopping(monitor='loss', patience=5) # Callback for earlystopping\n",
    "model4.compile(optimizer=\"sgd\", loss=\"binary_crossentropy\" , metrics=['accuracy'])\n",
    "history = model.fit(x_train, y_train, batch_size=32, epochs=7, validation_data=(x_test, y_test), callbacks=[callback])"
   ]
  },
  {
   "cell_type": "code",
   "execution_count": null,
   "id": "d4ff15b4",
   "metadata": {},
   "outputs": [],
   "source": []
  },
  {
   "cell_type": "code",
   "execution_count": 248,
   "id": "d0c5744a",
   "metadata": {},
   "outputs": [],
   "source": [
    "#Split the data into training and validation sets\n",
    "#Build you model and evaluate it on your validation set\n",
    "from sklearn.model_selection import train_test_split\n",
    "from sklearn.datasets import make_classification\n",
    "\n",
    "x =x_train\n",
    "y =y_train\n",
    "x_train, x_test, y_train, y_test = train_test_split(x,y,test_size=0.3,random_state=0)"
   ]
  },
  {
   "cell_type": "code",
   "execution_count": 240,
   "id": "19af5eb0",
   "metadata": {},
   "outputs": [
    {
     "data": {
      "text/plain": [
       "RandomForestClassifier(n_estimators=10)"
      ]
     },
     "execution_count": 240,
     "metadata": {},
     "output_type": "execute_result"
    }
   ],
   "source": [
    "from sklearn.ensemble import RandomForestClassifier\n",
    "rf = RandomForestClassifier(n_estimators=10)\n",
    "rf.fit(x_train,y_train)"
   ]
  },
  {
   "cell_type": "code",
   "execution_count": 241,
   "id": "0b710bcc",
   "metadata": {},
   "outputs": [],
   "source": [
    "rf_pred = rf.predict(x_test)"
   ]
  },
  {
   "cell_type": "code",
   "execution_count": 242,
   "id": "74a0bb14",
   "metadata": {},
   "outputs": [
    {
     "name": "stdout",
     "output_type": "stream",
     "text": [
      "Accuracy: 0.9978121309390425\n"
     ]
    }
   ],
   "source": [
    "import sklearn.metrics as metrics\n",
    "print(\"Accuracy:\",metrics.accuracy_score(y_test, rf_pred))"
   ]
  },
  {
   "cell_type": "code",
   "execution_count": 243,
   "id": "8681a111",
   "metadata": {},
   "outputs": [],
   "source": [
    "choose0 = rf.predict(temotion)"
   ]
  },
  {
   "cell_type": "code",
   "execution_count": 279,
   "id": "a8188341",
   "metadata": {},
   "outputs": [
    {
     "data": {
      "text/plain": [
       "440305"
      ]
     },
     "execution_count": 279,
     "metadata": {},
     "output_type": "execute_result"
    }
   ],
   "source": [
    "len(y_train)"
   ]
  },
  {
   "cell_type": "code",
   "execution_count": 280,
   "id": "aee5da4f",
   "metadata": {},
   "outputs": [],
   "source": [
    "j=0"
   ]
  },
  {
   "cell_type": "code",
   "execution_count": 281,
   "id": "d810cb5e",
   "metadata": {},
   "outputs": [
    {
     "data": {
      "text/plain": [
       "960"
      ]
     },
     "execution_count": 281,
     "metadata": {},
     "output_type": "execute_result"
    }
   ],
   "source": [
    "for i in y_train:\n",
    "    if i==1:\n",
    "        j=j+1\n",
    "j"
   ]
  },
  {
   "cell_type": "code",
   "execution_count": null,
   "id": "b16cf9b7",
   "metadata": {},
   "outputs": [],
   "source": []
  }
 ],
 "metadata": {
  "kernelspec": {
   "display_name": "Python 3",
   "language": "python",
   "name": "python3"
  },
  "language_info": {
   "codemirror_mode": {
    "name": "ipython",
    "version": 3
   },
   "file_extension": ".py",
   "mimetype": "text/x-python",
   "name": "python",
   "nbconvert_exporter": "python",
   "pygments_lexer": "ipython3",
   "version": "3.6.5"
  }
 },
 "nbformat": 4,
 "nbformat_minor": 5
}
